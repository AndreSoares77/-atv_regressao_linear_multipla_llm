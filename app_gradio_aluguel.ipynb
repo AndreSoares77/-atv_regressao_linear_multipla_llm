{
 "cells": [
  {
   "cell_type": "code",
   "execution_count": 9,
   "id": "4cde8034",
   "metadata": {},
   "outputs": [],
   "source": [
    "import gradio as gr \n",
    "import joblib\n",
    "import pandas as pd"
   ]
  },
  {
   "cell_type": "code",
   "execution_count": 11,
   "id": "528dc6e5",
   "metadata": {},
   "outputs": [],
   "source": [
    "modelo = joblib.load('.\\modelo_aluguel.pkl')"
   ]
  },
  {
   "cell_type": "code",
   "execution_count": 15,
   "id": "b7266825",
   "metadata": {},
   "outputs": [],
   "source": [
    "def predict (tamanho_m2, quant_quartos, idade_casa, quant_garagem, localizao_periferia, localizacao_suburbio):\n",
    "    predicao_individual = {\n",
    "        'tamanho_m2': tamanho_m2,\n",
    "        'quant_quartos': quant_quartos,\n",
    "        'idade_casa': idade_casa,\n",
    "        'quant_garagem': quant_garagem,\n",
    "        'localizacao_periferia': localizao_periferia,\n",
    "        'localizacao_suburbio': localizacao_suburbio\n",
    "    }   \n",
    "    predict_df = pd.DataFrame(predicao_individual, index=[1])\n",
    "    aluguel = modelo.predict(predict_df)\n",
    "    return aluguel[0].reshape(-1) "
   ]
  },
  {
   "cell_type": "code",
   "execution_count": 16,
   "id": "de9db115",
   "metadata": {},
   "outputs": [],
   "source": [
    "demo = gr.Interface(\n",
    "    fn=predict,\n",
    "    inputs=[\n",
    "        gr.Slider(50, 200, step=0.01),\n",
    "        gr.Slider(1,5,step=1),\n",
    "        gr.Slider(0,50,step=1),\n",
    "        gr.Slider(0,1,step=1),\n",
    "        gr.Radio([0,1]),\n",
    "        gr.Radio([0,1]),\n",
    "    ],\n",
    "    outputs=['number']\n",
    ")"
   ]
  },
  {
   "cell_type": "code",
   "execution_count": 14,
   "id": "042bdfb6",
   "metadata": {},
   "outputs": [
    {
     "name": "stdout",
     "output_type": "stream",
     "text": [
      "* Running on local URL:  http://127.0.0.1:7861\n",
      "* To create a public link, set `share=True` in `launch()`.\n"
     ]
    },
    {
     "data": {
      "text/html": [
       "<div><iframe src=\"http://127.0.0.1:7861/\" width=\"100%\" height=\"500\" allow=\"autoplay; camera; microphone; clipboard-read; clipboard-write;\" frameborder=\"0\" allowfullscreen></iframe></div>"
      ],
      "text/plain": [
       "<IPython.core.display.HTML object>"
      ]
     },
     "metadata": {},
     "output_type": "display_data"
    },
    {
     "data": {
      "text/plain": []
     },
     "execution_count": 14,
     "metadata": {},
     "output_type": "execute_result"
    },
    {
     "name": "stdout",
     "output_type": "stream",
     "text": [
      "Using existing dataset file at: .gradio\\flagged\\dataset1.csv\n"
     ]
    }
   ],
   "source": [
    "demo.launch()"
   ]
  }
 ],
 "metadata": {
  "kernelspec": {
   "display_name": "regressao_linear_multipla-KYwXQwQL",
   "language": "python",
   "name": "python3"
  },
  "language_info": {
   "codemirror_mode": {
    "name": "ipython",
    "version": 3
   },
   "file_extension": ".py",
   "mimetype": "text/x-python",
   "name": "python",
   "nbconvert_exporter": "python",
   "pygments_lexer": "ipython3",
   "version": "3.11.9"
  }
 },
 "nbformat": 4,
 "nbformat_minor": 5
}
